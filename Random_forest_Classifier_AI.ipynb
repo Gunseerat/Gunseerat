{
  "cells": [
    {
      "cell_type": "markdown",
      "metadata": {
        "id": "view-in-github",
        "colab_type": "text"
      },
      "source": [
        "<a href=\"https://colab.research.google.com/github/Gunseerat/Gunseerat/blob/main/Random_forest_Classifier_AI.ipynb\" target=\"_parent\"><img src=\"https://colab.research.google.com/assets/colab-badge.svg\" alt=\"Open In Colab\"/></a>"
      ]
    },
    {
      "cell_type": "markdown",
      "metadata": {
        "id": "IGJRrkXhbjtW"
      },
      "source": [
        "Loading Dataset and performing EDA and data pre-processing"
      ]
    },
    {
      "cell_type": "code",
      "execution_count": null,
      "metadata": {
        "colab": {
          "base_uri": "https://localhost:8080/"
        },
        "id": "0SkfroyVOSgj",
        "outputId": "fb49b1aa-2950-40bf-b79a-6f46d317ef07"
      },
      "outputs": [
        {
          "name": "stdout",
          "output_type": "stream",
          "text": [
            "<class 'pandas.core.frame.DataFrame'>\n",
            "RangeIndex: 23097 entries, 0 to 23096\n",
            "Data columns (total 9 columns):\n",
            " #   Column                    Non-Null Count  Dtype  \n",
            "---  ------                    --------------  -----  \n",
            " 0   Diagnosed_Condition       23097 non-null  int64  \n",
            " 1   Treated_with_drugs        23084 non-null  object \n",
            " 2   Patient_Age               23097 non-null  int64  \n",
            " 3   Patient_Body_Mass_Index   23097 non-null  float64\n",
            " 4   Patient_Smoker            23097 non-null  object \n",
            " 5   Patient_Rural_Urban       23097 non-null  object \n",
            " 6   Patient_mental_condition  23097 non-null  object \n",
            " 7   Number_of_prev_cond       21862 non-null  float64\n",
            " 8   Survived_1_year           23097 non-null  int64  \n",
            "dtypes: float64(2), int64(3), object(4)\n",
            "memory usage: 1.6+ MB\n"
          ]
        }
      ],
      "source": [
        "import pandas as pd\n",
        "import numpy as np\n",
        "pharma_data = pd.read_csv('https://raw.githubusercontent.com/dphi-official/Datasets/master/pharma_data/Training_set_begs.csv')\n",
        "pharma_data.head()\n",
        "pharma_data = pharma_data[['Diagnosed_Condition','Treated_with_drugs', 'Patient_Age', 'Patient_Body_Mass_Index', 'Patient_Smoker','Patient_Rural_Urban','Patient_mental_condition', 'Number_of_prev_cond','Survived_1_year']]\n",
        "pharma_data.info()"
      ]
    },
    {
      "cell_type": "markdown",
      "metadata": {
        "id": "FYENu0VyB5XS"
      },
      "source": [
        "Converting values to numerical"
      ]
    },
    {
      "cell_type": "code",
      "execution_count": null,
      "metadata": {
        "colab": {
          "base_uri": "https://localhost:8080/"
        },
        "id": "YTX1iE1dDMMI",
        "outputId": "c7b76b45-cc1f-433b-b0a1-656191933a3d"
      },
      "outputs": [
        {
          "name": "stdout",
          "output_type": "stream",
          "text": [
            "<class 'pandas.core.frame.DataFrame'>\n",
            "RangeIndex: 23097 entries, 0 to 23096\n",
            "Data columns (total 9 columns):\n",
            " #   Column                    Non-Null Count  Dtype  \n",
            "---  ------                    --------------  -----  \n",
            " 0   Diagnosed_Condition       23097 non-null  int64  \n",
            " 1   Treated_with_drugs        23097 non-null  float64\n",
            " 2   Patient_Age               23097 non-null  int64  \n",
            " 3   Patient_Body_Mass_Index   23097 non-null  float64\n",
            " 4   Patient_Smoker            23097 non-null  int64  \n",
            " 5   Patient_Rural_Urban       23097 non-null  int64  \n",
            " 6   Patient_mental_condition  23097 non-null  int64  \n",
            " 7   Number_of_prev_cond       23097 non-null  float64\n",
            " 8   Survived_1_year           23097 non-null  int64  \n",
            "dtypes: float64(3), int64(6)\n",
            "memory usage: 1.6 MB\n"
          ]
        }
      ],
      "source": [
        "pharma_data['Patient_Rural_Urban'] = pharma_data['Patient_Rural_Urban'].apply(lambda x: 1 if x == 'RURAL' else 2)\n",
        "pharma_data['Patient_Smoker'] = pharma_data['Patient_Smoker'].apply(lambda x: 4 if x == 'YES' else ( 5 if x == 'NO' else 6))\n",
        "pharma_data['Patient_mental_condition'] = pharma_data['Patient_mental_condition'].apply(lambda x: 1 if x == 'Stable' else 0)\n",
        "from sklearn.preprocessing import OrdinalEncoder\n",
        "ordinal_encoder = OrdinalEncoder()\n",
        "pharma_data[['Treated_with_drugs']] = ordinal_encoder.fit_transform(pharma_data[['Treated_with_drugs']])\n",
        "pharma_data['Treated_with_drugs'].fillna(pharma_data['Treated_with_drugs'].mode()[0], inplace=True)\n",
        "pharma_data['Number_of_prev_cond'].fillna(pharma_data['Number_of_prev_cond'].mode()[0], inplace=True)\n",
        "pharma_data.info()"
      ]
    },
    {
      "cell_type": "code",
      "execution_count": null,
      "metadata": {
        "id": "u-S86SXfg6rU"
      },
      "outputs": [],
      "source": [
        "X = pharma_data.drop('Survived_1_year', axis = 1)\n",
        "Y = pharma_data['Survived_1_year']\n",
        "from sklearn.model_selection import train_test_split\n",
        "X_train, X_test, Y_train, Y_test = train_test_split(X, Y, test_size=0.30, random_state=10)"
      ]
    },
    {
      "cell_type": "code",
      "execution_count": null,
      "metadata": {
        "id": "V6QqJ-EHAV2Y"
      },
      "outputs": [],
      "source": [
        "from sklearn.ensemble import RandomForestClassifier, RandomForestRegressor\n",
        "from sklearn.metrics import accuracy_score, roc_auc_score, make_scorer"
      ]
    },
    {
      "cell_type": "code",
      "execution_count": null,
      "metadata": {
        "colab": {
          "base_uri": "https://localhost:8080/"
        },
        "id": "IswTMDJeAl9a",
        "outputId": "0416c904-d2c4-4912-c496-dffafb8dd45d"
      },
      "outputs": [
        {
          "data": {
            "text/plain": [
              "RandomForestClassifier(max_depth=5, min_samples_leaf=2, n_jobs=1)"
            ]
          },
          "execution_count": 75,
          "metadata": {},
          "output_type": "execute_result"
        }
      ],
      "source": [
        "#first RF classifier\n",
        "R1 = RandomForestClassifier(bootstrap=True, class_weight=None, criterion='gini',\n",
        "            max_depth=5, max_features='auto', max_leaf_nodes=None,\n",
        "            min_impurity_decrease=0.0,\n",
        "            min_samples_leaf=2, min_samples_split=2,\n",
        "            min_weight_fraction_leaf=0.0, n_estimators=100, n_jobs=1,\n",
        "            oob_score=False, random_state=None, verbose=0,\n",
        "            warm_start=False)\n",
        "R1.fit(X_train,Y_train)"
      ]
    },
    {
      "cell_type": "markdown",
      "metadata": {
        "id": "U5HX1yGXQ7vn"
      },
      "source": [
        "testing against test_data"
      ]
    },
    {
      "cell_type": "code",
      "execution_count": null,
      "metadata": {
        "id": "BcORea7QQ_Fc"
      },
      "outputs": [],
      "source": [
        "test_data = pd.read_csv('https://raw.githubusercontent.com/dphi-official/Datasets/master/pharma_data/Testing_set_begs.csv')\n",
        "test_data = test_data[['Diagnosed_Condition','Treated_with_drugs', 'Patient_Age', 'Patient_Body_Mass_Index', 'Patient_Smoker','Patient_Rural_Urban','Patient_mental_condition', 'Number_of_prev_cond']]\n",
        "test_data['Patient_Rural_Urban'] = test_data['Patient_Rural_Urban'].apply(lambda x: 1 if x == 'RURAL' else 2)\n",
        "test_data['Patient_Smoker'] = test_data['Patient_Smoker'].apply(lambda x: 4 if x == 'YES' else ( 5 if x == 'NO' else 6))\n",
        "test_data['Patient_mental_condition'] = test_data['Patient_mental_condition'].apply(lambda x: 1 if x == 'Stable' else 0)\n",
        "from sklearn.preprocessing import OrdinalEncoder\n",
        "ordinal_encoder = OrdinalEncoder()\n",
        "test_data[['Treated_with_drugs']] = ordinal_encoder.fit_transform(test_data[['Treated_with_drugs']])\n",
        "test_data['Treated_with_drugs'].fillna(test_data['Treated_with_drugs'].mode()[0], inplace=True)\n",
        "test_data['Number_of_prev_cond'].fillna(test_data['Number_of_prev_cond'].mode()[0], inplace=True)"
      ]
    },
    {
      "cell_type": "code",
      "execution_count": null,
      "metadata": {
        "id": "hNV4vqQiSxi9"
      },
      "outputs": [],
      "source": [
        "from sklearn.metrics import f1_score\n",
        "y_R1 = R1.predict(test_data)\n",
        "test_data['Survived_1_year']=y_R1.tolist()"
      ]
    },
    {
      "cell_type": "code",
      "source": [
        "#download files\n",
        "# To create Dataframe of predicted value with particular respective index\n",
        "res = pd.DataFrame(y_R1) #preditcions are nothing but the final predictions of your model on input features of your new unseen test data\n",
        "res.columns = [\"prediction\"]\n",
        "\n",
        "# To download the csv file locally\n",
        "from google.colab import files\n",
        "res.to_csv('prediction_results.csv')         \n",
        "files.download('prediction_results.csv')"
      ],
      "metadata": {
        "colab": {
          "base_uri": "https://localhost:8080/",
          "height": 17
        },
        "id": "5Tyobu84aIHL",
        "outputId": "6334b14e-7720-40e5-e1c9-1bab033e0469"
      },
      "execution_count": null,
      "outputs": [
        {
          "output_type": "display_data",
          "data": {
            "text/plain": [
              "<IPython.core.display.Javascript object>"
            ],
            "application/javascript": [
              "\n",
              "    async function download(id, filename, size) {\n",
              "      if (!google.colab.kernel.accessAllowed) {\n",
              "        return;\n",
              "      }\n",
              "      const div = document.createElement('div');\n",
              "      const label = document.createElement('label');\n",
              "      label.textContent = `Downloading \"${filename}\": `;\n",
              "      div.appendChild(label);\n",
              "      const progress = document.createElement('progress');\n",
              "      progress.max = size;\n",
              "      div.appendChild(progress);\n",
              "      document.body.appendChild(div);\n",
              "\n",
              "      const buffers = [];\n",
              "      let downloaded = 0;\n",
              "\n",
              "      const channel = await google.colab.kernel.comms.open(id);\n",
              "      // Send a message to notify the kernel that we're ready.\n",
              "      channel.send({})\n",
              "\n",
              "      for await (const message of channel.messages) {\n",
              "        // Send a message to notify the kernel that we're ready.\n",
              "        channel.send({})\n",
              "        if (message.buffers) {\n",
              "          for (const buffer of message.buffers) {\n",
              "            buffers.push(buffer);\n",
              "            downloaded += buffer.byteLength;\n",
              "            progress.value = downloaded;\n",
              "          }\n",
              "        }\n",
              "      }\n",
              "      const blob = new Blob(buffers, {type: 'application/binary'});\n",
              "      const a = document.createElement('a');\n",
              "      a.href = window.URL.createObjectURL(blob);\n",
              "      a.download = filename;\n",
              "      div.appendChild(a);\n",
              "      a.click();\n",
              "      div.remove();\n",
              "    }\n",
              "  "
            ]
          },
          "metadata": {}
        },
        {
          "output_type": "display_data",
          "data": {
            "text/plain": [
              "<IPython.core.display.Javascript object>"
            ],
            "application/javascript": [
              "download(\"download_803b94c1-bba4-4ea2-8072-beceb8845fcb\", \"prediction_results.csv\", 64023)"
            ]
          },
          "metadata": {}
        }
      ]
    }
  ],
  "metadata": {
    "colab": {
      "name": "Random_forest_Classifier_AI",
      "provenance": [],
      "authorship_tag": "ABX9TyMW/rzXWyQjeqNA1b+f3hnL",
      "include_colab_link": true
    },
    "kernelspec": {
      "display_name": "Python 3",
      "name": "python3"
    },
    "language_info": {
      "name": "python"
    }
  },
  "nbformat": 4,
  "nbformat_minor": 0
}